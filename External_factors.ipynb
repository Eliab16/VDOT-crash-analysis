{
 "cells": [
  {
   "cell_type": "code",
   "execution_count": null,
   "id": "ee763767",
   "metadata": {},
   "outputs": [],
   "source": [
    "How do external factor such as alchol,drugs,animals,bike,distracted driving,,drowsy driving,drug use,norestraint,hit and run,\n",
    "large trucks,motorcycle,pedestrians,speeding,mainline crash and time of day influence crash occurances and severity?"
   ]
  },
  {
   "cell_type": "code",
   "execution_count": 3,
   "id": "bf7b8956",
   "metadata": {},
   "outputs": [],
   "source": [
    "external_factors =['alcohol_notalcohol','animal','bike_nonbike','distracted_notdistaracted','drowsy_notdrowsy','drug_nondrug','gr_nogr',\n",
    "                   'hitrun_not_hitrun','lgtruck_nonlgtruck','motor_notmotor','ped_nonped','speed_notspeed']"
   ]
  },
  {
   "cell_type": "code",
   "execution_count": null,
   "id": "e957dcad",
   "metadata": {},
   "outputs": [],
   "source": [
    "percentage_data ={}"
   ]
  }
 ],
 "metadata": {
  "kernelspec": {
   "display_name": "Python 3 (ipykernel)",
   "language": "python",
   "name": "python3"
  },
  "language_info": {
   "codemirror_mode": {
    "name": "ipython",
    "version": 3
   },
   "file_extension": ".py",
   "mimetype": "text/x-python",
   "name": "python",
   "nbconvert_exporter": "python",
   "pygments_lexer": "ipython3",
   "version": "3.11.5"
  }
 },
 "nbformat": 4,
 "nbformat_minor": 5
}
