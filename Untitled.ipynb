{
 "cells": [
  {
   "cell_type": "code",
   "execution_count": null,
   "id": "8a581664",
   "metadata": {},
   "outputs": [],
   "source": [
    "How do external factor such as alchol,drugs,animals,bike,distracted driving,,drowsy driving,drug use,norestraint,hit and run,\n",
    "large trucks,motorcycle,pedestrians,speeding,mainline crash and time of day influence crash occurances and severity?"
   ]
  },
  {
   "cell_type": "code",
   "execution_count": null,
   "id": "82b2fc11",
   "metadata": {},
   "outputs": [],
   "source": []
  }
 ],
 "metadata": {
  "kernelspec": {
   "display_name": "Python 3 (ipykernel)",
   "language": "python",
   "name": "python3"
  },
  "language_info": {
   "codemirror_mode": {
    "name": "ipython",
    "version": 3
   },
   "file_extension": ".py",
   "mimetype": "text/x-python",
   "name": "python",
   "nbconvert_exporter": "python",
   "pygments_lexer": "ipython3",
   "version": "3.11.5"
  }
 },
 "nbformat": 4,
 "nbformat_minor": 5
}
